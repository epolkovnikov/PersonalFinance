{
 "cells": [
  {
   "cell_type": "markdown",
   "id": "f29a70ef-5b4f-49ed-ad58-c0077611c6eb",
   "metadata": {},
   "source": [
    "# All Monthly Expences\n",
    "v.0.1 by Evgeny Polkovnikov and CoPilot\n",
    "\n",
    "Answers to the question: Where my money go?\n",
    "\n",
    "Operates on csv statement files from Bank of America Credit Card and First Horizon Checking. Save statements to Statements, and adjust your categories in expenses_cat.json"
   ]
  },
  {
   "cell_type": "markdown",
   "id": "197731bf-a02b-4d85-9932-5256016268ec",
   "metadata": {},
   "source": [
    "## Includes/Dependences"
   ]
  },
  {
   "cell_type": "code",
   "execution_count": null,
   "id": "1ed4fbd2-868f-466d-9043-058b08f517ec",
   "metadata": {},
   "outputs": [],
   "source": [
    "# Extras (you may have to install these modules yourself)\n",
    "import ipywidgets as widgets\n",
    "import pandas as pd\n",
    "import plotly.express as px\n",
    "from itables import init_notebook_mode, show"
   ]
  },
  {
   "cell_type": "code",
   "execution_count": null,
   "id": "66d0e7dd-7cb2-407a-83e3-61726133d9e3",
   "metadata": {
    "jupyter": {
     "source_hidden": true
    }
   },
   "outputs": [],
   "source": [
    "# System (already included with Python/Jupyter distro)\n",
    "import json\n",
    "import os\n",
    "import re\n",
    "from IPython.display import display\n",
    "from IPython.core.interactiveshell import InteractiveShell"
   ]
  },
  {
   "cell_type": "markdown",
   "id": "510ee24d-847e-42c7-9861-712d4a444ba3",
   "metadata": {},
   "source": [
    "## System Init"
   ]
  },
  {
   "cell_type": "code",
   "execution_count": null,
   "id": "a9fa6cbe-ff31-4ed3-9b57-5318b555e15c",
   "metadata": {
    "jupyter": {
     "source_hidden": true
    }
   },
   "outputs": [],
   "source": [
    "init_notebook_mode(all_interactive=True) # Interactive tables\n",
    "pd.set_option(\"display.max_columns\", None)\n",
    "pd.set_option(\"display.max_rows\", None)\n",
    "pd.set_option(\"display.expand_frame_repr\", False)\n",
    "\n",
    "InteractiveShell.ast_node_interactivity = \"none\" # Don't print implicit last result"
   ]
  },
  {
   "cell_type": "markdown",
   "id": "e80c2c98-1bcb-473b-a618-fd90665beab9",
   "metadata": {},
   "source": [
    "## User Data Setup\n",
    "Below, adjust params to match your env.\n",
    "Add you transaction files in csv format. Name them as YYYYMMDD_<Initials.Type.Bank>_<whatever>.csv\n",
    "Currently supported - Bank of America (BOA), First Horizon (FHB)\n",
    "Put your expense categories to the expenses_cats.json"
   ]
  },
  {
   "cell_type": "code",
   "execution_count": null,
   "id": "2ea2b35b-e343-4f01-b9bf-79b574d3b484",
   "metadata": {},
   "outputs": [],
   "source": [
    "# Work dirs\n",
    "transactions_dir='Statements/'\n",
    "categories_file_path='expenses_cats.json'"
   ]
  },
  {
   "cell_type": "markdown",
   "id": "632e1ef9-1839-4dce-a397-fe896a248417",
   "metadata": {},
   "source": [
    "## Pre-Calcs"
   ]
  },
  {
   "cell_type": "code",
   "execution_count": null,
   "id": "8c1264b0-ab77-4e75-a0f6-5a400299de2d",
   "metadata": {},
   "outputs": [],
   "source": [
    "# Expense Categories\n",
    "# Open the file and read the JSON data\n",
    "imported_struct = {}\n",
    "with open(categories_file_path, 'r') as cats_file:\n",
    "    imported_struct = json.load(cats_file)\n",
    "\n",
    "expense_categories = imported_struct['expense_categories']\n",
    "monthly_expenses = imported_struct['monthly_expenses']\n",
    "exlude_categories = imported_struct['exlude_categories']"
   ]
  },
  {
   "cell_type": "code",
   "execution_count": null,
   "id": "99cfcd41",
   "metadata": {},
   "outputs": [],
   "source": [
    "# Retrieve available transaction files\n",
    "transactions_files_dict = {}\n",
    "transactions_files_raw_list = [f for f in os.listdir(transactions_dir) if f.endswith('.csv')]\n",
    "\n",
    "for file_name in transactions_files_raw_list:\n",
    "    m = re.match(r'^(\\d{8})_([a-zA-Z\\.]+)_.*\\.csv$', file_name)\n",
    "    if m:\n",
    "        date = m.group(1)\n",
    "        bank = m.group(2)\n",
    "        if date not in transactions_files_dict:\n",
    "            transactions_files_dict[date] = {}\n",
    "        if bank not in transactions_files_dict[date]:\n",
    "            transactions_files_dict[date][bank] = os.path.join(transactions_dir, file_name)\n",
    "\n",
    "transactions_dates_list = sorted(transactions_files_dict.keys(), reverse=True)"
   ]
  },
  {
   "cell_type": "markdown",
   "id": "8fb39865-3686-4deb-8df8-abfaaeae0767",
   "metadata": {},
   "source": [
    "## Monthly Expenses Report"
   ]
  },
  {
   "cell_type": "code",
   "execution_count": null,
   "id": "2651f645",
   "metadata": {},
   "outputs": [],
   "source": [
    "# Prep the interactive report\n",
    "# Consume and display data\n",
    "@widgets.interact(trans_dd=widgets.Dropdown(\n",
    "    options=transactions_dates_list,\n",
    "    description='Transactions:',\n",
    "    disabled=False,))\n",
    "def report_monthly_expenses(trans_dd):\n",
    "    month_transactions_files = transactions_files_dict[trans_dd]\n",
    "    \n",
    "    # Create empty pandas data_frame with following columns: Date, BankAcc, Payee, Amount, Category, isMonthly\n",
    "    cdf_initial_columns = ['Date', 'BankAcc', 'TransName', 'Amount']\n",
    "    cdf = pd.DataFrame(columns=cdf_initial_columns)\n",
    "    \n",
    "    # Read the Banks' CSV files into a Common DataFrame\n",
    "    for bank in month_transactions_files:\n",
    "        tdf = pd.DataFrame(columns=cdf_initial_columns)\n",
    "        if 'BOA' in bank:\n",
    "            bdf = pd.read_csv(month_transactions_files[bank])\n",
    "            # Copy date from df to cdf mapping like this: Posted Date -> Date, Payee -> TransName, Amount -> Amount\n",
    "            tdf['Date'] = bdf['Posted Date']\n",
    "            tdf['BankAcc'] = bank\n",
    "            tdf['TransName'] = bdf['Payee']\n",
    "            tdf['Amount'] = bdf['Amount']\n",
    "        elif 'FHB' in bank:\n",
    "            bdf = pd.read_csv(month_transactions_files[bank])\n",
    "            tdf['Date'] = bdf['Date']\n",
    "            tdf['BankAcc'] = bank\n",
    "            tdf['TransName'] = bdf['Description']\n",
    "            # Add code to set tdf['Amount'] column cell value to either bdf['Debit'] or bdf['Credit'] depending on which one is not NaN.\n",
    "            # If both are NaN, set tdf['Amount'] to 0.\n",
    "            tdf['Amount'] = bdf['Debit'].fillna(0) + bdf['Credit'].fillna(0)\n",
    "        \n",
    "        if cdf.empty and not tdf.empty:\n",
    "            cdf = tdf.copy()\n",
    "        elif tdf.empty:\n",
    "            pass\n",
    "        else:\n",
    "            cdf = pd.concat([cdf, tdf])\n",
    "\n",
    "    # Add new column Category to the CommonDataFrame\n",
    "    cdf['Category'] = \"Uncat \" + cdf['BankAcc'] + \" \" + cdf['TransName']\n",
    "    for key in expense_categories:\n",
    "        cdf.loc[cdf['TransName'].str.contains('|'.join(expense_categories[key]), case=False), 'Category'] = key\n",
    "    \n",
    "    # Exclde rows with Category in exlude_categories to avoid double counting\n",
    "    cdf = cdf[~cdf['Category'].str.contains('|'.join(exlude_categories), case=False)]\n",
    "    \n",
    "    cdf['isMonthly'] = 'No'\n",
    "    cdf.loc[cdf['Category'].str.contains('|'.join(monthly_expenses), case=False), 'isMonthly'] = 'Yes'\n",
    "    \n",
    "    # Create new dataframe with sum of Amount by Category, include rows with NaN Category\n",
    "    cdf_sum = cdf.groupby('Category')['Amount'].sum().reset_index()\n",
    "    # Add isMonthly column to cdf_sum\n",
    "    cdf_sum['isMonthly'] = 'No'\n",
    "    cdf_sum.loc[cdf_sum['Category'].str.contains('|'.join(monthly_expenses), case=False), 'isMonthly'] = 'Yes'\n",
    "    # Sort by Amount in descending order\n",
    "    cdf_sum = cdf_sum.sort_values(by='Category', ascending=True)\n",
    "    \n",
    "    # Sum all negative numbers from cdf_sum\n",
    "    total_this_month = cdf_sum[cdf_sum['Amount'] < 0]['Amount'].sum()\n",
    "    total_recurring_month = cdf_sum[(cdf_sum['Amount'] < 0) & (cdf_sum['isMonthly'] == 'Yes')]['Amount'].sum()\n",
    "    total_subs = cdf[cdf['Category'].str.contains('Subscription')]['Amount'].sum()\n",
    "    total_food = cdf[cdf['Category'].str.contains('Food')]['Amount'].sum()\n",
    "    total_util = cdf[cdf['Category'].str.contains('Util')]['Amount'].sum()\n",
    "    total_food_util = total_food + total_util\n",
    "    car_gas = cdf[cdf['Category'].str.contains('Car Gas')]['Amount'].sum()\n",
    "    total_car = (  car_gas\n",
    "                 + cdf[cdf['Category'].str.contains('Car Maint')]['Amount'].sum()\n",
    "                 + cdf[cdf['Category'].str.contains('Car Insurance')]['Amount'].sum())\n",
    "    total_mandatory = (  total_food_util\n",
    "                       + cdf[cdf['Category'].str.contains('Insurance')]['Amount'].sum()\n",
    "                       + cdf[cdf['Category'].str.contains('HOA')]['Amount'].sum()\n",
    "                       + cdf[cdf['Category'].str.contains('Car Gas')]['Amount'].sum()\n",
    "                       + cdf[cdf['Category'].str.contains('Car Maint')]['Amount'].sum()\n",
    "                       + cdf[cdf['Category'].str.contains('Doctors')]['Amount'].sum())\n",
    "    total_non_mandatory = total_this_month - total_mandatory\n",
    "    # Calculate total_wages as sum of cdf['Category'] containing word 'Wage'\n",
    "    total_wages = cdf[cdf['Category'].str.contains('Wage')]['Amount'].sum()\n",
    "    \n",
    "    # Print total_this_month formatted as currency\n",
    "    print(f\"All Spending for {trans_dd}\")\n",
    "\n",
    "    month_summary_df = pd.DataFrame(columns=['Food', 'Util', 'Subs', 'Car Gas', 'Total Car', 'Total Mandatory',\n",
    "                                             'Total Expenses', 'Total Wages', 'Balance'])\n",
    "    month_summary_df.loc[trans_dd] = pd.Series({'Food': total_food,\n",
    "                                                'Util': total_util,\n",
    "                                                'Subs': total_subs,\n",
    "                                                'Car Gas': car_gas,\n",
    "                                                'Total Car': total_car,\n",
    "                                                'Total Mandatory': total_mandatory,\n",
    "                                                'Total Expenses': total_this_month,\n",
    "                                                'Total Wages': total_wages,\n",
    "                                                'Balance': total_wages + total_this_month})\n",
    "    \n",
    "\n",
    "    show(month_summary_df, \"Month Summary\", paging=False)\n",
    "    print(\"* Total Mandatory = Food + Utilities + Insurance + Mortgage + HOA + Car + Doctors\")\n",
    "\n",
    "    \n",
    "    # Display the Summary chart table\n",
    "    cdf_sum_expenses_only = cdf_sum[cdf_sum['Amount'] < 0]\n",
    "    cdf_sum_expenses_only.loc[:, 'Amount'] = cdf_sum_expenses_only['Amount'].abs()\n",
    "     \n",
    "    cdf_sum_expenses_only = cdf_sum_expenses_only.sort_values(by='Category', ascending=True)\n",
    "\n",
    "    cdf_sum_expenses_only['GenCat'] = cdf_sum_expenses_only['Category']\n",
    "    for gen_cat in ['Food', 'Util', 'Car', 'Insurance', 'Doctors', 'Subscription', 'House']:\n",
    "        cdf_sum_expenses_only.loc[cdf_sum_expenses_only['Category'].str.contains(gen_cat), 'GenCat'] = gen_cat\n",
    "\n",
    "    # Get a list of categories in the order they appear in cdf_sum_expenses_only\n",
    "    #fig_cat_order = cdf_sum_expenses_only['Category'].tolist()\n",
    "    # Get a list of values in the order they appear in cdf_sum_expenses_only\n",
    "    #fig_val_order = cdf_sum_expenses_only['Amount'].tolist()\n",
    "    gen_expenses_diagram = px.pie(data_frame=cdf_sum_expenses_only,\n",
    "                 names='GenCat',\n",
    "                 values='Amount',\n",
    "                 # Add an order parameter to the px.pie call to sort the slices in the pie chart\n",
    "                 #category_orders={'names': fig_cat_order}, # TODO: Does not work Python 3.10, plotly 6.0.0.\n",
    "                 # Fix error: ColumnNotFoundError: The following columns were not found: ['b'] Hint: Did you mean one of these columns: ['Category', 'Amount']?\n",
    "                 title='General Expense Distribution')\n",
    "    gen_expenses_diagram.update_traces(textposition='inside', textinfo='percent+label', sort=False)\n",
    "    gen_expenses_diagram.show()\n",
    "\n",
    "    # Display the Summary table\n",
    "    show(cdf_sum[['Category', 'isMonthly', 'Amount']], \"Expenses Summary\", paging=False)\n",
    "    # Display the details table\n",
    "    show(cdf[['Date', 'BankAcc', 'TransName', 'Amount', 'Category', 'isMonthly']], \"All Details\", paging=False)\n",
    "\n",
    "print(\"End of the Monthly Expenses Report\")"
   ]
  },
  {
   "cell_type": "code",
   "execution_count": null,
   "id": "f6f8b36b-f60d-46a7-8753-cea360b43c9b",
   "metadata": {},
   "outputs": [],
   "source": []
  },
  {
   "cell_type": "markdown",
   "id": "3aa514ae-a337-4281-80d4-ab0417ee8d45",
   "metadata": {},
   "source": []
  }
 ],
 "metadata": {
  "kernelspec": {
   "display_name": "Python 3 (ipykernel)",
   "language": "python",
   "name": "python3"
  },
  "language_info": {
   "codemirror_mode": {
    "name": "ipython",
    "version": 3
   },
   "file_extension": ".py",
   "mimetype": "text/x-python",
   "name": "python",
   "nbconvert_exporter": "python",
   "pygments_lexer": "ipython3",
   "version": "3.10.11"
  }
 },
 "nbformat": 4,
 "nbformat_minor": 5
}
